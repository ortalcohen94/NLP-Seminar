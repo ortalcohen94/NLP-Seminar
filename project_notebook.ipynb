{
 "cells": [
  {
   "cell_type": "code",
   "execution_count": 1,
   "id": "f2f552ee",
   "metadata": {},
   "outputs": [],
   "source": [
    "#Hyperparameters:\n",
    "\n",
    "SHOULD_USE_SEED = True\n",
    "RADIUS = 10000\n",
    "BATCH_SIZE = 700\n",
    "EPSILON = 0.1\n",
    "SIGMA = 0.0001\n",
    "MAX_ITERS = 100\n"
   ]
  },
  {
   "cell_type": "code",
   "execution_count": 2,
   "id": "bbae3466",
   "metadata": {},
   "outputs": [],
   "source": [
    "from sklearn import metrics\n",
    "from sklearn.naive_bayes import MultinomialNB\n",
    "from sklearn.model_selection import train_test_split\n",
    "from sklearn.feature_extraction.text import CountVectorizer\n",
    "from sklearn.feature_extraction.text import TfidfTransformer\n",
    "\n",
    "import numpy as np\n",
    "\n",
    "from data.data_creator import data_create_Rotten_Tomatoes\n",
    "\n",
    "if SHOULD_USE_SEED:\n",
    "    np.random.seed(42)\n"
   ]
  },
  {
   "cell_type": "markdown",
   "id": "2295cd6f",
   "metadata": {},
   "source": [
    "## Dataset "
   ]
  },
  {
   "cell_type": "code",
   "execution_count": 3,
   "id": "26988836",
   "metadata": {
    "scrolled": true
   },
   "outputs": [
    {
     "name": "stdout",
     "output_type": "stream",
     "text": [
      "Example for a movie review from rotten tomatoes:  simplistic , silly and tedious .\n",
      "Number of instances in the database:  10662\n"
     ]
    }
   ],
   "source": [
    "data, labels = data_create_Rotten_Tomatoes()\n",
    "\n",
    "print(\"Example for a movie review from rotten tomatoes: \", data[0])\n",
    "print(\"Number of instances in the database: \", len(data))"
   ]
  },
  {
   "cell_type": "code",
   "execution_count": 4,
   "id": "5dc3ba83",
   "metadata": {
    "scrolled": true
   },
   "outputs": [],
   "source": [
    "#Splitting the dataset\n",
    "x_train_all, x_test, y_train_all, y_test = train_test_split(\n",
    "    data, labels, test_size=.2, random_state=42)\n",
    "x_train, x_val, y_train, y_val = train_test_split(\n",
    "    x_train_all, y_train_all, test_size=.1, random_state=42)\n",
    "y_train = np.array(y_train)\n",
    "y_test = np.array(y_test)\n",
    "y_val = np.array(y_val)"
   ]
  },
  {
   "cell_type": "markdown",
   "id": "46d6252c",
   "metadata": {},
   "source": [
    "## Black-box model - Multinomial Naive Bayes classifier"
   ]
  },
  {
   "cell_type": "code",
   "execution_count": 5,
   "id": "66796d99",
   "metadata": {},
   "outputs": [],
   "source": [
    "from sklearn.feature_extraction.text import TfidfVectorizer\n",
    "\n",
    "vect_text = TfidfVectorizer(use_idf = False)\n",
    "x_vec_train = vect_text.fit_transform(x_train)\n",
    "\n",
    "clf = MultinomialNB().fit(x_vec_train, y_train)"
   ]
  },
  {
   "cell_type": "code",
   "execution_count": 6,
   "id": "42f6dec9",
   "metadata": {},
   "outputs": [],
   "source": [
    "preds = clf.predict(vect_text.transform(x_val))"
   ]
  },
  {
   "cell_type": "code",
   "execution_count": 7,
   "id": "c11cd6dd",
   "metadata": {},
   "outputs": [
    {
     "name": "stdout",
     "output_type": "stream",
     "text": [
      "Val accuracy 0.7584994138335287\n"
     ]
    }
   ],
   "source": [
    "print('Val accuracy', metrics.accuracy_score(y_val, preds))"
   ]
  },
  {
   "cell_type": "markdown",
   "id": "ebe07de0",
   "metadata": {},
   "source": [
    "## Instance to explain"
   ]
  },
  {
   "cell_type": "code",
   "execution_count": 8,
   "id": "f8951f2b",
   "metadata": {},
   "outputs": [
    {
     "name": "stdout",
     "output_type": "stream",
     "text": [
      "x to explain:  the movie's thesis -- elegant technology for the masses -- is surprisingly refreshing .\n",
      "Predicted class:  1\n",
      "True class:  1\n",
      "Predict probablilities:  [0.29029215 0.70970785]\n"
     ]
    }
   ],
   "source": [
    "x_explain = x_test[1]#\"the movie's thesis -- elegant technology for the masses -- is surprisingly refreshing .\"\n",
    "print('x to explain: ',x_explain)\n",
    "print('Predicted class: ', clf.predict(vect_text.transform([x_explain]))[0])\n",
    "print('True class: ', y_test[1])\n",
    "print('Predict probablilities: ', clf.predict_proba(vect_text.transform([x_explain]))[0])\n"
   ]
  },
  {
   "cell_type": "markdown",
   "id": "6537737f",
   "metadata": {},
   "source": [
    "## Building MeLime model:"
   ]
  },
  {
   "cell_type": "code",
   "execution_count": 9,
   "id": "b972d723",
   "metadata": {},
   "outputs": [],
   "source": [
    "import nltk\n",
    "from torch.utils.data import DataLoader\n",
    "def tokenizer(x):\n",
    "    return x.split()\n",
    "dl_train = [tokenizer(x) for x in x_train]"
   ]
  },
  {
   "cell_type": "code",
   "execution_count": 10,
   "id": "ba40706a",
   "metadata": {},
   "outputs": [],
   "source": [
    "from gen_models.word2vec_gen import Word2VecGen, Word2VecEncoder\n",
    "#The radius is <radius> most similar words\n",
    "generator = Word2VecGen(encoder = Word2VecEncoder(dl_train), corpus = x_train, radius = RADIUS, tokenizer = tokenizer)"
   ]
  },
  {
   "cell_type": "code",
   "execution_count": 11,
   "id": "06f9a70c",
   "metadata": {},
   "outputs": [
    {
     "name": "stdout",
     "output_type": "stream",
     "text": [
      "['the', \"movie's\", 'thesis', '--', 'elegant', 'technology', 'for', 'the', 'masses', '--', 'is', 'surprisingly', 'refreshing', '.']\n"
     ]
    }
   ],
   "source": [
    "from interpretable_local_models.statistics_model import StatisticsLocalModel\n",
    "tokenized_x_explain = x_explain.split()\n",
    "y_p_explain = max(clf.predict_proba(vect_text.transform([x_explain]))[0])\n",
    "explainer_model = StatisticsLocalModel(y_p_explain, len(tokenized_x_explain), tokenizer)\n",
    "print(tokenized_x_explain)"
   ]
  },
  {
   "cell_type": "code",
   "execution_count": 12,
   "id": "d41eb152",
   "metadata": {},
   "outputs": [],
   "source": [
    "from MeLime.model import MeLimeModel\n",
    "\n",
    "def transform_func(x):\n",
    "    return vect_text.transform([x])\n",
    "\n",
    "model = MeLimeModel(black_box_model = clf,gen_model =generator, batch_size = BATCH_SIZE, epsilon_c = EPSILON, \n",
    "                    sigma = SIGMA, explainer_model = explainer_model, transform_func = transform_func, \n",
    "                    max_iters = MAX_ITERS, tokenizer = tokenizer)"
   ]
  },
  {
   "cell_type": "markdown",
   "id": "08b7a137",
   "metadata": {},
   "source": [
    "## Explaining the instance"
   ]
  },
  {
   "cell_type": "code",
   "execution_count": 13,
   "id": "98d3b037",
   "metadata": {},
   "outputs": [
    {
     "name": "stdout",
     "output_type": "stream",
     "text": [
      "Iteration number:  3\n",
      "Delta:  0.0038270054819197377\n",
      "Iteration number:  6\n",
      "Delta:  0.0007248350372431033\n",
      "Iteration number:  9\n",
      "Delta:  0.0002929868400044249\n",
      "Iteration number:  12\n",
      "Delta:  0.0004089576657791627\n",
      "Iteration number:  15\n",
      "Delta:  0.00013287033526322465\n",
      "Iteration number:  18\n",
      "Delta:  8.884266002469209e-05\n"
     ]
    }
   ],
   "source": [
    "res, sentences_with_probs = model.forward(x_explain)"
   ]
  },
  {
   "cell_type": "markdown",
   "id": "83f1079f",
   "metadata": {},
   "source": [
    "## Plotting results"
   ]
  },
  {
   "cell_type": "code",
   "execution_count": 14,
   "id": "68d54f00",
   "metadata": {
    "scrolled": false
   },
   "outputs": [
    {
     "name": "stderr",
     "output_type": "stream",
     "text": [
      "/home/ortalcohen/NLP-Project/NLP-Seminar/interpretable_local_models/statistics_model.py:72: RuntimeWarning: invalid value encountered in double_scalars\n",
      "  x = x / abs(x) * 0.10\n"
     ]
    },
    {
     "data": {
      "image/png": "[encoded data removed]",
      "text/plain": [
       "<Figure size 576x648 with 1 Axes>"
      ]
     },
     "metadata": {},
     "output_type": "display_data"
    }
   ],
   "source": [
    "ax = StatisticsLocalModel.plot_explaination(res)\n"
   ]
  },
  {
   "cell_type": "code",
   "execution_count": 15,
   "id": "24fe2928",
   "metadata": {},
   "outputs": [
    {
     "data": {
      "image/png": "[encoded data removed]",
      "text/plain": [
       "<Figure size 1656x720 with 2 Axes>"
      ]
     },
     "metadata": {},
     "output_type": "display_data"
    }
   ],
   "source": [
    "import seaborn as sns\n",
    "StatisticsLocalModel.plot_sentence_heatmap(res)"
   ]
  },
  {
   "cell_type": "markdown",
   "id": "e0d31940",
   "metadata": {},
   "source": [
    "## Plotting most favorable and contrary samples phrases:\n",
    "\n",
    "Favorable sentence - a generated sentence using Word2VecGen that improves the model's confidence in its \n",
    "prediction on the original sentence.\n",
    "\n",
    "Contrary samples - a generated sentence using Word2VecGen that decrease the model's confidence in its prediction on the original sentence and <b>might even change its prediction on the generated sentence</b>.\n",
    "\n",
    "### Most contrary samples phrases:\n",
    "\n"
   ]
  },
  {
   "cell_type": "code",
   "execution_count": 16,
   "id": "c8d06fa8",
   "metadata": {},
   "outputs": [
    {
     "data": {
      "text/plain": [
       "[(\"the movie's thesis -- elegant technology for the masses -- is surprisingly generic .\",\n",
       "  0.5025889567695815),\n",
       " (\"the movie's thesis -- elegant technology for the masses -- is surprisingly episode .\",\n",
       "  0.5248593721754765),\n",
       " (\"the movie's thesis -- elegant technology for the masses -- is surprisingly suffers .\",\n",
       "  0.5281083223830958),\n",
       " (\"the movie's thesis -- elegant technology for the masses -- is surprisingly heavy .\",\n",
       "  0.5298123619928775),\n",
       " (\"the movie's thesis -- elegant technology for the masses -- is surprisingly unnecessary .\",\n",
       "  0.5385807647006947)]"
      ]
     },
     "execution_count": 16,
     "metadata": {},
     "output_type": "execute_result"
    }
   ],
   "source": [
    "sorted(sentences_with_probs, key = lambda x: x[1])[:5]"
   ]
  },
  {
   "cell_type": "markdown",
   "id": "fa48c4ad",
   "metadata": {},
   "source": [
    "### Most favorable samples phrases:"
   ]
  },
  {
   "cell_type": "code",
   "execution_count": 17,
   "id": "be5389c6",
   "metadata": {},
   "outputs": [
    {
     "data": {
      "text/plain": [
       "[(\"the movie's thesis -- elegant technology for engrossing masses -- is surprisingly refreshing .\",\n",
       "  0.8176665527615279),\n",
       " (\"the movie's thesis -- elegant technology for culture masses -- is surprisingly refreshing .\",\n",
       "  0.8158404475561319),\n",
       " (\"the movie's thesis -- elegant technology for portrait masses -- is surprisingly refreshing .\",\n",
       "  0.8138416617347014),\n",
       " ('the portrait thesis -- elegant technology for the masses -- is surprisingly refreshing .',\n",
       "  0.8132866789908577),\n",
       " ('the provides thesis -- elegant technology for the masses -- is surprisingly refreshing .',\n",
       "  0.8077252490956566)]"
      ]
     },
     "execution_count": 17,
     "metadata": {},
     "output_type": "execute_result"
    }
   ],
   "source": [
    "sorted(sentences_with_probs, key = lambda x: x[1], reverse = True)[:5]"
   ]
  },
  {
   "cell_type": "code",
   "execution_count": null,
   "id": "82d95b92",
   "metadata": {},
   "outputs": [],
   "source": []
  }
 ],
 "metadata": {
  "kernelspec": {
   "display_name": "Python 3",
   "language": "python",
   "name": "python3"
  },
  "language_info": {
   "codemirror_mode": {
    "name": "ipython",
    "version": 3
   },
   "file_extension": ".py",
   "mimetype": "text/x-python",
   "name": "python",
   "nbconvert_exporter": "python",
   "pygments_lexer": "ipython3",
   "version": "3.8.5"
  }
 },
 "nbformat": 4,
 "nbformat_minor": 5
}
