{
 "cells": [
  {
   "cell_type": "code",
   "execution_count": 1,
   "id": "f2f552ee",
   "metadata": {},
   "outputs": [],
   "source": [
    "#Hyperparameters:\n",
    "\n",
    "SHOULD_USE_SEED = True\n",
    "RADIUS = 10000\n",
    "BATCH_SIZE = 700\n",
    "EPSILON = 0.1\n",
    "SIGMA = 0.0001\n",
    "MAX_ITERS = 100\n"
   ]
  },
  {
   "cell_type": "code",
   "execution_count": 2,
   "id": "bbae3466",
   "metadata": {},
   "outputs": [
    {
     "ename": "ImportError",
     "evalue": "cannot import name 'data_create_Rotten_Tomatoes' from 'data.data_creator' (/home/ortalcohen/NLP-Project/NLP-Seminar/data/data_creator.py)",
     "output_type": "error",
     "traceback": [
      "\u001b[0;31m---------------------------------------------------------------------------\u001b[0m",
      "\u001b[0;31mImportError\u001b[0m                               Traceback (most recent call last)",
      "\u001b[0;32m<ipython-input-2-743e88770fcd>\u001b[0m in \u001b[0;36m<module>\u001b[0;34m\u001b[0m\n\u001b[1;32m      7\u001b[0m \u001b[0;32mimport\u001b[0m \u001b[0mnumpy\u001b[0m \u001b[0;32mas\u001b[0m \u001b[0mnp\u001b[0m\u001b[0;34m\u001b[0m\u001b[0;34m\u001b[0m\u001b[0m\n\u001b[1;32m      8\u001b[0m \u001b[0;34m\u001b[0m\u001b[0m\n\u001b[0;32m----> 9\u001b[0;31m \u001b[0;32mfrom\u001b[0m \u001b[0mdata\u001b[0m\u001b[0;34m.\u001b[0m\u001b[0mdata_creator\u001b[0m \u001b[0;32mimport\u001b[0m \u001b[0mdata_create_Rotten_Tomatoes\u001b[0m\u001b[0;34m\u001b[0m\u001b[0;34m\u001b[0m\u001b[0m\n\u001b[0m\u001b[1;32m     10\u001b[0m \u001b[0;34m\u001b[0m\u001b[0m\n\u001b[1;32m     11\u001b[0m \u001b[0;32mif\u001b[0m \u001b[0mSHOULD_USE_SEED\u001b[0m\u001b[0;34m:\u001b[0m\u001b[0;34m\u001b[0m\u001b[0;34m\u001b[0m\u001b[0m\n",
      "\u001b[0;31mImportError\u001b[0m: cannot import name 'data_create_Rotten_Tomatoes' from 'data.data_creator' (/home/ortalcohen/NLP-Project/NLP-Seminar/data/data_creator.py)"
     ]
    }
   ],
   "source": [
    "from sklearn import metrics\n",
    "from sklearn.naive_bayes import MultinomialNB\n",
    "from sklearn.model_selection import train_test_split\n",
    "from sklearn.feature_extraction.text import CountVectorizer\n",
    "from sklearn.feature_extraction.text import TfidfTransformer\n",
    "\n",
    "import numpy as np\n",
    "\n",
    "from data.data_creator import data_create_Rotten_Tomatoes\n",
    "\n",
    "if SHOULD_USE_SEED:\n",
    "    np.random.seed(42)\n"
   ]
  },
  {
   "cell_type": "markdown",
   "id": "2295cd6f",
   "metadata": {},
   "source": [
    "## Dataset "
   ]
  },
  {
   "cell_type": "code",
   "execution_count": null,
   "id": "26988836",
   "metadata": {
    "scrolled": true
   },
   "outputs": [],
   "source": [
    "data, labels = data_create_Rotten_Tomatoes()\n",
    "\n",
    "print(\"Example for a movie review from rotten tomatoes: \", data[0])\n",
    "print(\"Number of instances in the database: \", len(data))"
   ]
  },
  {
   "cell_type": "code",
   "execution_count": null,
   "id": "5dc3ba83",
   "metadata": {
    "scrolled": true
   },
   "outputs": [],
   "source": [
    "#Splitting the dataset\n",
    "x_train_all, x_test, y_train_all, y_test = train_test_split(\n",
    "    data, labels, test_size=.2, random_state=42)\n",
    "x_train, x_val, y_train, y_val = train_test_split(\n",
    "    x_train_all, y_train_all, test_size=.1, random_state=42)\n",
    "y_train = np.array(y_train)\n",
    "y_test = np.array(y_test)\n",
    "y_val = np.array(y_val)"
   ]
  },
  {
   "cell_type": "markdown",
   "id": "46d6252c",
   "metadata": {},
   "source": [
    "## Black-box model - Multinomial Naive Bayes classifier"
   ]
  },
  {
   "cell_type": "code",
   "execution_count": null,
   "id": "66796d99",
   "metadata": {},
   "outputs": [],
   "source": [
    "from sklearn.feature_extraction.text import TfidfVectorizer\n",
    "\n",
    "vect_text = TfidfVectorizer(use_idf = False)\n",
    "x_vec_train = vect_text.fit_transform(x_train)\n",
    "\n",
    "clf = MultinomialNB().fit(x_vec_train, y_train)"
   ]
  },
  {
   "cell_type": "code",
   "execution_count": null,
   "id": "42f6dec9",
   "metadata": {},
   "outputs": [],
   "source": [
    "preds = clf.predict(vect_text.transform(x_val))"
   ]
  },
  {
   "cell_type": "code",
   "execution_count": null,
   "id": "c11cd6dd",
   "metadata": {},
   "outputs": [],
   "source": [
    "print('Val accuracy', metrics.accuracy_score(y_val, preds))"
   ]
  },
  {
   "cell_type": "markdown",
   "id": "ebe07de0",
   "metadata": {},
   "source": [
    "## Instance to explain"
   ]
  },
  {
   "cell_type": "code",
   "execution_count": 9,
   "id": "f8951f2b",
   "metadata": {},
   "outputs": [
    {
     "name": "stdout",
     "output_type": "stream",
     "text": [
      "x to explain:  the movie's thesis -- elegant technology for the masses -- is surprisingly refreshing .\n",
      "Predicted class:  1\n",
      "True class:  1\n",
      "Predict probablilities:  [0.29029215 0.70970785]\n"
     ]
    }
   ],
   "source": [
    "x_explain = x_test[1]#\"the movie's thesis -- elegant technology for the masses -- is surprisingly refreshing .\"\n",
    "print('x to explain: ',x_explain)\n",
    "print('Predicted class: ', clf.predict(vect_text.transform([x_explain]))[0])\n",
    "print('True class: ', y_test[1])\n",
    "print('Predict probablilities: ', clf.predict_proba(vect_text.transform([x_explain]))[0])\n"
   ]
  },
  {
   "cell_type": "markdown",
   "id": "6537737f",
   "metadata": {},
   "source": [
    "## Building MeLime model:"
   ]
  },
  {
   "cell_type": "code",
   "execution_count": 10,
   "id": "b972d723",
   "metadata": {},
   "outputs": [],
   "source": [
    "import nltk\n",
    "from torch.utils.data import DataLoader\n",
    "def tokenizer(x):\n",
    "    return x.split()\n",
    "dl_train = [tokenizer(x) for x in x_train]"
   ]
  },
  {
   "cell_type": "code",
   "execution_count": 11,
   "id": "ba40706a",
   "metadata": {},
   "outputs": [],
   "source": [
    "from gen_models.word2vec_gen import Word2VecGen, Word2VecEncoder\n",
    "#The radius is <radius> most similar words\n",
    "generator = Word2VecGen(encoder = Word2VecEncoder(dl_train), corpus = x_train, radius = RADIUS, tokenizer = tokenizer)"
   ]
  },
  {
   "cell_type": "code",
   "execution_count": 12,
   "id": "06f9a70c",
   "metadata": {},
   "outputs": [
    {
     "name": "stdout",
     "output_type": "stream",
     "text": [
      "['the', \"movie's\", 'thesis', '--', 'elegant', 'technology', 'for', 'the', 'masses', '--', 'is', 'surprisingly', 'refreshing', '.']\n"
     ]
    }
   ],
   "source": [
    "from interpretable_local_models.statistics_model import StatisticsLocalModel\n",
    "tokenized_x_explain = x_explain.split()\n",
    "y_p_explain = max(clf.predict_proba(vect_text.transform([x_explain]))[0])\n",
    "explainer_model = StatisticsLocalModel(y_p_explain, len(tokenized_x_explain), tokenizer)\n",
    "print(tokenized_x_explain)"
   ]
  },
  {
   "cell_type": "code",
   "execution_count": 13,
   "id": "d41eb152",
   "metadata": {},
   "outputs": [],
   "source": [
    "from MeLime.model import MeLimeModel\n",
    "\n",
    "def transform_func(x):\n",
    "    return vect_text.transform([x])\n",
    "\n",
    "model = MeLimeModel(black_box_model = clf,gen_model =generator, batch_size = BATCH_SIZE, epsilon_c = EPSILON, \n",
    "                    sigma = SIGMA, explainer_model = explainer_model, transform_func = transform_func, \n",
    "                    max_iters = MAX_ITERS, tokenizer = tokenizer)"
   ]
  },
  {
   "cell_type": "markdown",
   "id": "08b7a137",
   "metadata": {},
   "source": [
    "## Explaining the instance"
   ]
  },
  {
   "cell_type": "code",
   "execution_count": 14,
   "id": "98d3b037",
   "metadata": {},
   "outputs": [
    {
     "name": "stdout",
     "output_type": "stream",
     "text": [
      "Iteration number:  3\n",
      "Delta:  0.004613427032465367\n",
      "Iteration number:  6\n",
      "Delta:  0.0015826336306825398\n",
      "Iteration number:  9\n",
      "Delta:  0.0009393365913932626\n",
      "Iteration number:  12\n",
      "Delta:  0.00034888776072354084\n",
      "Iteration number:  15\n",
      "Delta:  0.0001544555462639867\n",
      "Iteration number:  18\n",
      "Delta:  0.00017691560899902106\n",
      "Iteration number:  21\n",
      "Delta:  0.0001310744858430953\n"
     ]
    }
   ],
   "source": [
    "res, sentences_with_probs = model.forward(x_explain)"
   ]
  },
  {
   "cell_type": "markdown",
   "id": "83f1079f",
   "metadata": {},
   "source": [
    "## Plotting results"
   ]
  },
  {
   "cell_type": "code",
   "execution_count": 15,
   "id": "68d54f00",
   "metadata": {
    "scrolled": false
   },
   "outputs": [
    {
     "data": {
      "image/png": "[encoded data removed]",
      "text/plain": [
       "<Figure size 576x648 with 1 Axes>"
      ]
     },
     "metadata": {},
     "output_type": "display_data"
    }
   ],
   "source": [
    "ax = StatisticsLocalModel.plot_explaination(res)\n"
   ]
  },
  {
   "cell_type": "code",
   "execution_count": 16,
   "id": "24fe2928",
   "metadata": {},
   "outputs": [
    {
     "data": {
      "image/png": "[encoded data removed]",
      "text/plain": [
       "<Figure size 1656x720 with 2 Axes>"
      ]
     },
     "metadata": {},
     "output_type": "display_data"
    }
   ],
   "source": [
    "import seaborn as sns\n",
    "StatisticsLocalModel.plot_sentence_heatmap(res)"
   ]
  },
  {
   "cell_type": "markdown",
   "id": "e0d31940",
   "metadata": {},
   "source": [
    "## Plotting most favorable and contrary samples phrases:\n",
    "\n",
    "Favorable sentence - a generated sentence using Word2VecGen that improves the model's confidence in its \n",
    "prediction on the original sentence.\n",
    "\n",
    "Contrary samples - a generated sentence using Word2VecGen that decrease the model's confidence in its prediction on the original sentence and <b>might even change its prediction on the generated sentence</b>.\n",
    "\n",
    "### Most contrary samples phrases:\n",
    "\n"
   ]
  },
  {
   "cell_type": "code",
   "execution_count": 17,
   "id": "c8d06fa8",
   "metadata": {},
   "outputs": [
    {
     "data": {
      "text/plain": [
       "[(\"the movie's thesis -- elegant technology for the masses -- is too-extreme-for-tv refreshing .\",\n",
       "  0.43437243979859774),\n",
       " (\"the movie's thesis -- elegant technology for too-extreme-for-tv masses -- is surprisingly refreshing .\",\n",
       "  0.4739443088908391),\n",
       " (\"the movie's thesis -- elegant technology for the masses -- is surprisingly ill-considered .\",\n",
       "  0.48049267679803803),\n",
       " (\"the movie's thesis -- elegant technology for the masses -- is surprisingly tv-movie .\",\n",
       "  0.4958693596906917),\n",
       " (\"the movie's thesis -- elegant technology for the masses -- is surprisingly boring .\",\n",
       "  0.49755410275359285)]"
      ]
     },
     "execution_count": 17,
     "metadata": {},
     "output_type": "execute_result"
    }
   ],
   "source": [
    "sorted(sentences_with_probs, key = lambda x: x[1])[:5]"
   ]
  },
  {
   "cell_type": "markdown",
   "id": "fa48c4ad",
   "metadata": {},
   "source": [
    "### Most favorable samples phrases:"
   ]
  },
  {
   "cell_type": "code",
   "execution_count": 18,
   "id": "be5389c6",
   "metadata": {},
   "outputs": [
    {
     "data": {
      "text/plain": [
       "[(\"heart-wrenching movie's thesis -- elegant technology for the masses -- is surprisingly refreshing .\",\n",
       "  0.8213076556241633),\n",
       " ('the fast-moving thesis -- elegant technology for the masses -- is surprisingly refreshing .',\n",
       "  0.8194555866787412),\n",
       " (\"riveting movie's thesis -- elegant technology for the masses -- is surprisingly refreshing .\",\n",
       "  0.8124313330778978),\n",
       " (\"the movie's thesis -- elegant technology for thoughtful masses -- is surprisingly refreshing .\",\n",
       "  0.8106235883216316),\n",
       " ('the gut-wrenching thesis -- elegant technology for the masses -- is surprisingly refreshing .',\n",
       "  0.8080863531799788)]"
      ]
     },
     "execution_count": 18,
     "metadata": {},
     "output_type": "execute_result"
    }
   ],
   "source": [
    "sorted(sentences_with_probs, key = lambda x: x[1], reverse = True)[:5]"
   ]
  },
  {
   "cell_type": "code",
   "execution_count": null,
   "id": "82d95b92",
   "metadata": {},
   "outputs": [],
   "source": []
  }
 ],
 "metadata": {
  "kernelspec": {
   "display_name": "Python 3",
   "language": "python",
   "name": "python3"
  },
  "language_info": {
   "codemirror_mode": {
    "name": "ipython",
    "version": 3
   },
   "file_extension": ".py",
   "mimetype": "text/x-python",
   "name": "python",
   "nbconvert_exporter": "python",
   "pygments_lexer": "ipython3",
   "version": "3.8.5"
  }
 },
 "nbformat": 4,
 "nbformat_minor": 5
}
