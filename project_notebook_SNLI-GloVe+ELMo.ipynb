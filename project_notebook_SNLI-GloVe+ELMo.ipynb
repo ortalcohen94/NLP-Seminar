{
 "cells": [
  {
   "cell_type": "code",
   "execution_count": 1,
   "id": "67e6ba05",
   "metadata": {},
   "outputs": [],
   "source": [
    "#Hyperparameters:\n",
    "\n",
    "SHOULD_USE_SEED = True\n",
    "RADIUS = 5000\n",
    "BATCH_SIZE = 700\n",
    "EPSILON = 0.1\n",
    "SIGMA = 0.001\n",
    "MAX_ITERS = 100\n",
    "\n",
    "NN_BATCH_SIZE = 128\n",
    "\n",
    "SAMPLES_FOR_MEASURE = 50 #If all the samples should be measured, the value should be None.\n",
    "\n",
    "RERUN_EXPERIMENT = False\n",
    "\n",
    "TRAIN_FILE = \"esnli_train.csv\"\n",
    "VAL_FILE = \"esnli_dev.csv\"\n",
    "TEST_FILE = \"esnli_test.csv\"\n"
   ]
  },
  {
   "cell_type": "code",
   "execution_count": 2,
   "id": "dfac5bd1",
   "metadata": {},
   "outputs": [],
   "source": [
    "from sklearn import metrics\n",
    "from sklearn.naive_bayes import MultinomialNB\n",
    "from sklearn.model_selection import train_test_split\n",
    "from sklearn.feature_extraction.text import CountVectorizer\n",
    "from sklearn.feature_extraction.text import TfidfTransformer\n",
    "\n",
    "import numpy as np\n",
    "\n",
    "from data.data_creator import data_create_SNLI\n",
    "\n",
    "if SHOULD_USE_SEED:\n",
    "    np.random.seed(42)\n"
   ]
  },
  {
   "cell_type": "code",
   "execution_count": 3,
   "id": "77e0510a",
   "metadata": {},
   "outputs": [
    {
     "name": "stdout",
     "output_type": "stream",
     "text": [
      "cuda\n"
     ]
    }
   ],
   "source": [
    "import torch\n",
    "\n",
    "device = torch.device(\"cuda\" if torch.cuda.is_available() else \"cpu\")\n",
    "print(device)"
   ]
  },
  {
   "cell_type": "markdown",
   "id": "3e290f6b",
   "metadata": {},
   "source": [
    "## Dataset "
   ]
  },
  {
   "cell_type": "code",
   "execution_count": 4,
   "id": "3919a68e",
   "metadata": {
    "scrolled": true
   },
   "outputs": [],
   "source": [
    "data, labels = data_create_SNLI()"
   ]
  },
  {
   "cell_type": "code",
   "execution_count": 5,
   "id": "e4337536",
   "metadata": {
    "scrolled": true
   },
   "outputs": [],
   "source": [
    "#Splitting the dataset by using the original split\n",
    "\n",
    "x_train, x_val, x_test = data[TRAIN_FILE], data[VAL_FILE], data[TEST_FILE]\n",
    "y_train, y_val, y_test = labels[TRAIN_FILE], labels[VAL_FILE], labels[TEST_FILE]"
   ]
  },
  {
   "cell_type": "markdown",
   "id": "7f1c07f7",
   "metadata": {},
   "source": [
    "## Black-box model - Multinomial Naive Bayes classifier\n",
    "\n",
    "The black box model that was used in the original article."
   ]
  },
  {
   "cell_type": "code",
   "execution_count": 6,
   "id": "6c84857d",
   "metadata": {},
   "outputs": [],
   "source": [
    "from sklearn.feature_extraction.text import TfidfVectorizer\n",
    "\n",
    "data_multinomial_nb = dict()\n",
    "\n",
    "for key in data:\n",
    "    data_multinomial_nb[key] = \\\n",
    "        [first + '~ ' + second for first, second in zip(data[key]['premise'], data[key]['hypothesis'])]\n",
    "    \n",
    "x_train, x_val, x_test = data_multinomial_nb[TRAIN_FILE], data_multinomial_nb[VAL_FILE], data_multinomial_nb[TEST_FILE]\n",
    "\n",
    "vect_text = TfidfVectorizer(use_idf = False)\n",
    "x_vec_train = vect_text.fit_transform(x_train)\n",
    "\n",
    "clf = MultinomialNB().fit(x_vec_train, y_train)"
   ]
  },
  {
   "cell_type": "code",
   "execution_count": 7,
   "id": "cb8a419c",
   "metadata": {},
   "outputs": [],
   "source": [
    "preds = clf.predict(vect_text.transform(x_val))"
   ]
  },
  {
   "cell_type": "code",
   "execution_count": 8,
   "id": "52677dae",
   "metadata": {},
   "outputs": [
    {
     "name": "stdout",
     "output_type": "stream",
     "text": [
      "Val accuracy 0.5420646210119894\n"
     ]
    }
   ],
   "source": [
    "print('Val accuracy', metrics.accuracy_score(y_val, preds))"
   ]
  },
  {
   "cell_type": "code",
   "execution_count": 9,
   "id": "ccbf1895",
   "metadata": {},
   "outputs": [
    {
     "name": "stdout",
     "output_type": "stream",
     "text": [
      "Test accuracy 0.5362377850162866\n"
     ]
    }
   ],
   "source": [
    "preds = clf.predict(vect_text.transform(x_test))\n",
    "print('Test accuracy', metrics.accuracy_score(y_test, preds))"
   ]
  },
  {
   "cell_type": "markdown",
   "id": "e6bb75a5",
   "metadata": {},
   "source": [
    "## Black-box model - Neural Network\n",
    "\n",
    "The black box model above doesn't give a good result. Therefore, we use another black box model presented in the following article:\n",
    "https://nlp.stanford.edu/pubs/snli_paper.pdf"
   ]
  },
  {
   "cell_type": "markdown",
   "id": "7dba8c0a",
   "metadata": {},
   "source": [
    "### Data preperation\n"
   ]
  },
  {
   "cell_type": "code",
   "execution_count": 11,
   "id": "e220f953",
   "metadata": {},
   "outputs": [],
   "source": [
    "import os\n",
    "from os.path import join\n",
    "import pandas as pd\n",
    "from sklearn.preprocessing import LabelEncoder\n",
    "from sklearn.preprocessing import OneHotEncoder\n",
    "\n",
    "cwd = os.getcwd()\n",
    "data_dir = join(cwd, \"data/eSNLI\")\n",
    "df = {}\n",
    "df_names = {TRAIN_FILE : 'train', VAL_FILE: 'val', TEST_FILE: 'test'}\n",
    "for file in TRAIN_FILE, VAL_FILE, TEST_FILE:\n",
    "    data = pd.read_csv(join(data_dir, file))\n",
    "    data_sentences = data[['Sentence1', 'Sentence2', 'gold_label']]\n",
    "    data_sentences = data_sentences.dropna()\n",
    "    labelencoder = LabelEncoder()\n",
    "\n",
    "    data_sentences['gold_label_cat'] = labelencoder.fit_transform(data_sentences['gold_label'])\n",
    "    data_sentences.drop('gold_label', inplace = True, axis = 1)\n",
    "    df[df_names[file]] = data_sentences\n",
    "    "
   ]
  },
  {
   "cell_type": "code",
   "execution_count": 12,
   "id": "0e10115c",
   "metadata": {},
   "outputs": [],
   "source": [
    "def text_preprocessing(text):\n",
    "    text = re.sub(r'\\s+', ' ', text).strip()\n",
    "    return text"
   ]
  },
  {
   "cell_type": "code",
   "execution_count": 13,
   "id": "77f3fb46",
   "metadata": {},
   "outputs": [
    {
     "name": "stderr",
     "output_type": "stream",
     "text": [
      "/home/ortalcohen/miniconda3/lib/python3.8/site-packages/transformers/tokenization_utils_base.py:2104: FutureWarning: The `pad_to_max_length` argument is deprecated and will be removed in a future version, use `padding=True` or `padding='longest'` to pad to the longest sequence in the batch, or use `padding='max_length'` to pad to a max length. In this case, you can give a specific length with `max_length` (e.g. `max_length=45`) or leave max_length to None to pad to the maximal input size of the model (e.g. 512 for Bert).\n",
      "  warnings.warn(\n"
     ]
    }
   ],
   "source": [
    "from transformers import BertTokenizer\n",
    "from torch.utils.data import TensorDataset, DataLoader, RandomSampler, SequentialSampler\n",
    "import re\n",
    "MAX_LEN = 63\n",
    "\n",
    "tokenizer = BertTokenizer.from_pretrained('bert-base-uncased', do_lower_case=True)\n",
    "\n",
    "def preprocessing_for_bert_helper(sentences):\n",
    "    input_ids = []\n",
    "    attention_masks = []\n",
    "\n",
    "    for sent in sentences:\n",
    "        encoded_sent = tokenizer.encode_plus(\n",
    "            text=text_preprocessing(sent),  \n",
    "            add_special_tokens=True,        \n",
    "            max_length=MAX_LEN,                 \n",
    "            pad_to_max_length=True,    \n",
    "            truncation=True,\n",
    "            #return_tensors='pt',           \n",
    "            return_attention_mask=True      \n",
    "            )\n",
    "        \n",
    "        input_ids.append(encoded_sent.get('input_ids'))\n",
    "        attention_masks.append(encoded_sent.get('attention_mask'))      \n",
    "\n",
    "    input_ids = torch.tensor(input_ids)\n",
    "    attention_masks = torch.tensor(attention_masks)\n",
    "\n",
    "    return input_ids, attention_masks\n",
    "\n",
    "def preprocessing_for_bert(sentences):\n",
    "\n",
    "    premise_input_ids, premise_attention_masks = preprocessing_for_bert_helper(sentences['Sentence1'].values)\n",
    "    hypothesis_input_ids, hypothesis_attention_masks = preprocessing_for_bert_helper(sentences['Sentence2'].values)\n",
    "    inputs = torch.cat([premise_input_ids, hypothesis_input_ids], dim = 1)\n",
    "    masks = torch.cat([premise_attention_masks, hypothesis_attention_masks], dim = 1)\n",
    "    \n",
    "    return inputs, masks\n",
    "\n",
    "\n",
    "def GetDataLoader(df):\n",
    "    inputs, masks = preprocessing_for_bert(df)\n",
    "        \n",
    "    # Convert other data types to torch.Tensor\n",
    "    labels = torch.tensor(df['gold_label_cat'].values)\n",
    "\n",
    "    # For fine-tuning BERT, the authors recommend a batch size of 16 or 32.\n",
    "    batch_size = 16\n",
    "\n",
    "    # Create the DataLoader for our training set\n",
    "    data = TensorDataset(inputs, masks, labels)\n",
    "    sampler = RandomSampler(data)\n",
    "    dataloader = DataLoader(data, sampler=sampler, batch_size=batch_size)\n",
    "\n",
    "    return dataloader\n",
    "\n",
    "dataloaders = {}\n",
    "for key, curr_df in df.items():\n",
    "    dataloaders[key] = GetDataLoader(curr_df)\n"
   ]
  },
  {
   "cell_type": "markdown",
   "id": "901aeb0d",
   "metadata": {},
   "source": [
    "### Building the model"
   ]
  },
  {
   "cell_type": "code",
   "execution_count": 15,
   "id": "1cf13bfe",
   "metadata": {},
   "outputs": [],
   "source": [
    "import random\n",
    "from black_box_models.neural_network import BertClassifier, BertNLITrainer\n",
    "\n",
    "def set_seed(seed_value=42):\n",
    "    \"\"\"Set seed for reproducibility.\n",
    "    \"\"\"\n",
    "    random.seed(seed_value)\n",
    "    np.random.seed(seed_value)\n",
    "    torch.manual_seed(seed_value)\n",
    "    torch.cuda.manual_seed_all(seed_value)"
   ]
  },
  {
   "cell_type": "code",
   "execution_count": 16,
   "id": "f9b6c2bc",
   "metadata": {},
   "outputs": [],
   "source": [
    "# LABEL.vocab.itos\n",
    "from transformers import AdamW, get_linear_schedule_with_warmup\n",
    "\n",
    "def initialize_model(epochs=4):\n",
    "    \"\"\"Initialize the Bert Classifier, the optimizer and the learning rate scheduler.\n",
    "    \"\"\"\n",
    "    bert_classifier = BertClassifier(freeze_bert=False, device = device)\n",
    "\n",
    "    bert_classifier.to(device)\n",
    "\n",
    "    optimizer = AdamW(bert_classifier.parameters(),\n",
    "                      lr=5e-5,   \n",
    "                      eps=1e-8   \n",
    "                      )\n",
    "\n",
    "    total_steps = len(dataloaders['train']) * epochs\n",
    "\n",
    "    scheduler = get_linear_schedule_with_warmup(optimizer,\n",
    "                                                num_warmup_steps=0, \n",
    "                                                num_training_steps=total_steps)\n",
    "    return bert_classifier, optimizer, scheduler"
   ]
  },
  {
   "cell_type": "code",
   "execution_count": 17,
   "id": "4aad2f5c",
   "metadata": {
    "scrolled": true
   },
   "outputs": [
    {
     "name": "stderr",
     "output_type": "stream",
     "text": [
      "Some weights of the model checkpoint at bert-base-uncased were not used when initializing BertModel: ['cls.seq_relationship.bias', 'cls.predictions.transform.dense.bias', 'cls.seq_relationship.weight', 'cls.predictions.transform.LayerNorm.bias', 'cls.predictions.decoder.weight', 'cls.predictions.transform.dense.weight', 'cls.predictions.transform.LayerNorm.weight', 'cls.predictions.bias']\n",
      "- This IS expected if you are initializing BertModel from the checkpoint of a model trained on another task or with another architecture (e.g. initializing a BertForSequenceClassification model from a BertForPreTraining model).\n",
      "- This IS NOT expected if you are initializing BertModel from the checkpoint of a model that you expect to be exactly identical (initializing a BertForSequenceClassification model from a BertForSequenceClassification model).\n"
     ]
    },
    {
     "name": "stdout",
     "output_type": "stream",
     "text": [
      "Loading the saved neural network model\n",
      "Validation accuracy: 88.5958\n"
     ]
    }
   ],
   "source": [
    "set_seed(42)  \n",
    "clf, optimizer, scheduler = initialize_model(epochs=1)\n",
    "trainer = BertNLITrainer(clf, optimizer, scheduler, device)\n",
    "trainer.train(dataloaders['train'], dataloaders['val'], epochs=1, evaluation=True)"
   ]
  },
  {
   "cell_type": "code",
   "execution_count": 18,
   "id": "0815ac72",
   "metadata": {},
   "outputs": [
    {
     "name": "stdout",
     "output_type": "stream",
     "text": [
      "Test accuracy:  88.61970684039088\n"
     ]
    }
   ],
   "source": [
    "loss, test_accuracy = trainer.evaluate(dataloaders['test'])\n",
    "print('Test accuracy: ', test_accuracy)"
   ]
  },
  {
   "cell_type": "markdown",
   "id": "8eb1c585",
   "metadata": {},
   "source": [
    "## Instance to explain"
   ]
  },
  {
   "cell_type": "code",
   "execution_count": 20,
   "id": "eec4f2b4",
   "metadata": {},
   "outputs": [],
   "source": [
    "class Instance:\n",
    "    \n",
    "    def __init__(self, input_ids, attention_mask):\n",
    "        self.input_ids = input_ids\n",
    "        self.attention_mask = attention_mask\n",
    "\n",
    "def transform_func(x):\n",
    "    premise = x.split('*')[0]\n",
    "    hypothesis = x.split('*')[1]\n",
    "    premise_input_ids, premise_attention_masks = preprocessing_for_bert_helper([premise])\n",
    "    hypothesis_input_ids, hypothesis_attention_masks = preprocessing_for_bert_helper([hypothesis])\n",
    "    inputs = torch.cat([premise_input_ids, hypothesis_input_ids], dim = 1).to(device).detach()\n",
    "    masks = torch.cat([premise_attention_masks, hypothesis_attention_masks], dim = 1).to(device).detach()\n",
    "    data = TensorDataset(inputs, masks)\n",
    "    sampler = RandomSampler(data)\n",
    "    dataloader = DataLoader(data, sampler=sampler, batch_size=1)\n",
    "    \n",
    "    return Instance(inputs, masks)\n"
   ]
  },
  {
   "cell_type": "code",
   "execution_count": 21,
   "id": "217c2ecf",
   "metadata": {},
   "outputs": [
    {
     "name": "stdout",
     "output_type": "stream",
     "text": [
      "premise to explain:  this church choir sings to the masses as they sing joyous songs from the book at a church.\n",
      "hypothesis to explain:  the church is filled with song.\n",
      "Predicted class:  entailment\n",
      "True class:  entailment\n"
     ]
    },
    {
     "name": "stderr",
     "output_type": "stream",
     "text": [
      "/home/ortalcohen/miniconda3/lib/python3.8/site-packages/transformers/tokenization_utils_base.py:2104: FutureWarning: The `pad_to_max_length` argument is deprecated and will be removed in a future version, use `padding=True` or `padding='longest'` to pad to the longest sequence in the batch, or use `padding='max_length'` to pad to a max length. In this case, you can give a specific length with `max_length` (e.g. `max_length=45`) or leave max_length to None to pad to the maximal input size of the model (e.g. 512 for Bert).\n",
      "  warnings.warn(\n"
     ]
    }
   ],
   "source": [
    "def predict_label(x_explain, clf):\n",
    "    return labelencoder.inverse_transform([clf.predict(transform_func(x_explain)).item()])[0]\n",
    "    \n",
    "tokenizer = BertTokenizer.from_pretrained('bert-base-uncased', do_lower_case=True)\n",
    "\n",
    "if RERUN_EXPERIMENT:\n",
    "    for idx in range(len(x_test)):\n",
    "        x_explain = x_test[idx]\n",
    "        premise = x_test[idx].split('~')[0]\n",
    "        hypothesis = x_test[idx].split('~')[1]\n",
    "    #     \n",
    "        x_explain = premise + \" * \" + hypothesis \n",
    "        if(predict_label(x_explain, clf) == y_test[idx] and y_test[idx] != 'neutral'):\n",
    "            print('premise to explain: ', premise)\n",
    "            print('hypothesis to explain: ',hypothesis)\n",
    "            print('Predicted class: ', predict_label(x_explain, clf))\n",
    "            print('True class: ', y_test[1])\n",
    "            break\n",
    "\n",
    "else:   \n",
    "    premise = \"this church choir sings to the masses as they sing joyous songs from the book at a church.\"\n",
    "    hypothesis = \"the church is filled with song.\"\n",
    "    x_explain = premise + \" * \" + hypothesis \n",
    "    print('premise to explain: ', premise)\n",
    "    print('hypothesis to explain: ',hypothesis)\n",
    "    print('Predicted class: ', predict_label(x_explain, clf))\n",
    "    print('True class: ', y_test[1])\n",
    "\n",
    "\n"
   ]
  },
  {
   "cell_type": "markdown",
   "id": "c214e6c8",
   "metadata": {},
   "source": [
    "## Building MeLime model:"
   ]
  },
  {
   "cell_type": "code",
   "execution_count": 22,
   "id": "1be40a12",
   "metadata": {},
   "outputs": [],
   "source": [
    "import nltk\n",
    "from torch.utils.data import DataLoader\n",
    "\n",
    "def tokenizer_split(x):\n",
    "    return x.split()\n",
    "\n",
    "dl_train = [tokenizer_split(x) for x in x_train]"
   ]
  },
  {
   "cell_type": "code",
   "execution_count": 23,
   "id": "9c3c8433",
   "metadata": {},
   "outputs": [
    {
     "name": "stdout",
     "output_type": "stream",
     "text": [
      "Probability for the predicted label:  0.9158778786659241\n"
     ]
    },
    {
     "name": "stderr",
     "output_type": "stream",
     "text": [
      "/home/ortalcohen/miniconda3/lib/python3.8/site-packages/transformers/tokenization_utils_base.py:2104: FutureWarning: The `pad_to_max_length` argument is deprecated and will be removed in a future version, use `padding=True` or `padding='longest'` to pad to the longest sequence in the batch, or use `padding='max_length'` to pad to a max length. In this case, you can give a specific length with `max_length` (e.g. `max_length=45`) or leave max_length to None to pad to the maximal input size of the model (e.g. 512 for Bert).\n",
      "  warnings.warn(\n"
     ]
    }
   ],
   "source": [
    "from interpretable_local_models.statistics_model_nli import StatisticsLocalModelNLI\n",
    "y_p_explain = max(clf.predict_proba(transform_func(x_explain))[0]).item()\n",
    "print('Probability for the predicted label: ', y_p_explain)\n",
    "explainer_model = StatisticsLocalModelNLI(y_p_explain, len(tokenizer_split(x_explain)), tokenizer_split, \n",
    "                                       len(tokenizer_split(premise)))\n"
   ]
  },
  {
   "cell_type": "markdown",
   "id": "43ed8389",
   "metadata": {},
   "source": [
    "# Using contextualized word-embeddings"
   ]
  },
  {
   "cell_type": "code",
   "execution_count": 24,
   "id": "8082728f",
   "metadata": {},
   "outputs": [],
   "source": [
    "from gen_models.word2vec_gen import Word2VecELMOEncoder\n",
    "encoder = Word2VecELMOEncoder(10000)"
   ]
  },
  {
   "cell_type": "code",
   "execution_count": 25,
   "id": "d970e9b8",
   "metadata": {},
   "outputs": [],
   "source": [
    "from interpretable_local_models.abstract_model import LocalModel\n",
    "from gen_models.abstract_model import GenModel\n",
    "import copy\n",
    "import numpy as np\n",
    "import math\n",
    "from gen_models.word2vec_gen import Word2VecGen\n",
    "from MeLime.model import MeLimeModel\n",
    "\n",
    "generator = Word2VecGen(encoder = encoder, corpus = x_train, radius = RADIUS, tokenizer = tokenizer_split,\n",
    "                       tokens_not_to_sample = ['*', '.'], should_send_sentence = True)\n",
    "model = MeLimeModel(black_box_model = clf,gen_model =generator, batch_size = BATCH_SIZE, epsilon_c = EPSILON, \n",
    "                    sigma = SIGMA, explainer_model = explainer_model, transform_func = transform_func, \n",
    "                    max_iters = MAX_ITERS, tokenizer = tokenizer)"
   ]
  },
  {
   "cell_type": "code",
   "execution_count": 26,
   "id": "787fb484",
   "metadata": {},
   "outputs": [
    {
     "name": "stdout",
     "output_type": "stream",
     "text": [
      "this church choir sings to the masses as they sing joyous songs from the book at a church. * the church is filled with song.\n"
     ]
    },
    {
     "name": "stderr",
     "output_type": "stream",
     "text": [
      "/home/ortalcohen/miniconda3/lib/python3.8/site-packages/transformers/tokenization_utils_base.py:2104: FutureWarning: The `pad_to_max_length` argument is deprecated and will be removed in a future version, use `padding=True` or `padding='longest'` to pad to the longest sequence in the batch, or use `padding='max_length'` to pad to a max length. In this case, you can give a specific length with `max_length` (e.g. `max_length=45`) or leave max_length to None to pad to the maximal input size of the model (e.g. 512 for Bert).\n",
      "  warnings.warn(\n"
     ]
    },
    {
     "name": "stdout",
     "output_type": "stream",
     "text": [
      "Iteration number:  3\n",
      "Delta:  0.013137259352858366\n",
      "Iteration number:  6\n",
      "Delta:  0.004733987817899786\n",
      "Iteration number:  9\n",
      "Delta:  0.0017181874294368844\n",
      "Iteration number:  12\n",
      "Delta:  0.001566443952917194\n"
     ]
    }
   ],
   "source": [
    "print(x_explain)\n",
    "res, sentences_with_probs = model.forward(x_explain)"
   ]
  },
  {
   "cell_type": "code",
   "execution_count": 27,
   "id": "68d5e96c",
   "metadata": {},
   "outputs": [
    {
     "name": "stderr",
     "output_type": "stream",
     "text": [
      "/home/ortalcohen/NLP-Project/NLP-Seminar/interpretable_local_models/statistics_model_nli.py:90: RuntimeWarning: invalid value encountered in double_scalars\n",
      "  x = x / abs(x) * 0.10\n"
     ]
    },
    {
     "data": {
      "image/png": "[encoded data removed]",
      "text/plain": [
       "<Figure size 576x648 with 1 Axes>"
      ]
     },
     "metadata": {},
     "output_type": "display_data"
    }
   ],
   "source": [
    "ax = StatisticsLocalModelNLI.plot_explaination(res)\n"
   ]
  },
  {
   "cell_type": "code",
   "execution_count": 28,
   "id": "478631b9",
   "metadata": {
    "scrolled": true
   },
   "outputs": [
    {
     "name": "stdout",
     "output_type": "stream",
     "text": [
      "Premise plot:\n"
     ]
    },
    {
     "data": {
      "image/png": "[encoded data removed]",
      "text/plain": [
       "<Figure size 1656x720 with 2 Axes>"
      ]
     },
     "metadata": {},
     "output_type": "display_data"
    }
   ],
   "source": [
    "import seaborn as sns\n",
    "premise_res = []\n",
    "hypothesis_res = []\n",
    "did_finish_premise = False\n",
    "for word, stat in res:\n",
    "    if word == '*':\n",
    "        did_finish_premise = True\n",
    "        continue\n",
    "    if did_finish_premise:\n",
    "        hypothesis_res.append((word, stat))\n",
    "        continue\n",
    "    premise_res.append((word, stat))\n",
    "print(\"Premise plot:\")\n",
    "StatisticsLocalModelNLI.plot_sentence_heatmap(premise_res)\n"
   ]
  },
  {
   "cell_type": "code",
   "execution_count": 29,
   "id": "321cbe80",
   "metadata": {},
   "outputs": [
    {
     "name": "stdout",
     "output_type": "stream",
     "text": [
      "Hypothesis plot:\n"
     ]
    },
    {
     "data": {
      "image/png": "[encoded data removed]",
      "text/plain": [
       "<Figure size 1656x720 with 2 Axes>"
      ]
     },
     "metadata": {},
     "output_type": "display_data"
    }
   ],
   "source": [
    "print(\"Hypothesis plot:\")\n",
    "StatisticsLocalModelNLI.plot_sentence_heatmap(hypothesis_res)"
   ]
  },
  {
   "cell_type": "markdown",
   "id": "56ae2bfa",
   "metadata": {},
   "source": [
    "## Plotting most favorable and contrary samples phrases:\n",
    "\n",
    "Favorable sentence - a generated sentence using Word2VecGen that improves the model's confidence in its \n",
    "prediction on the original sentence.\n",
    "\n",
    "Contrary samples - a generated sentence using Word2VecGen that decrease the model's confidence in its prediction on the original sentence and <b>might even change its prediction on the generated sentence</b>.\n",
    "\n",
    "### Most contrary samples phrases:\n"
   ]
  },
  {
   "cell_type": "code",
   "execution_count": 30,
   "id": "5f9f7c79",
   "metadata": {},
   "outputs": [
    {
     "data": {
      "text/plain": [
       "[('this church choir sings to the masses as they sing joyous songs from the book at a church. * the church is filled with superman',\n",
       "  tensor(0.0011, device='cuda:0')),\n",
       " ('this church choir sings to the masses as they sing joyous songs from the book at a church. * the church sleeps filled with song.',\n",
       "  tensor(0.0012, device='cuda:0')),\n",
       " ('this church choir sings to the masses as they sing joyous songs from the book at a church. * the church is filled with nickelodeon',\n",
       "  tensor(0.0019, device='cuda:0')),\n",
       " ('this church choir sings to the masses as they sing joyous songs from the book at a church. * the church is deserted with song.',\n",
       "  tensor(0.0019, device='cuda:0')),\n",
       " ('this church choir sings to the masses as they sing joyous songs from the book at a church. * the church is filled with surfer',\n",
       "  tensor(0.0021, device='cuda:0'))]"
      ]
     },
     "execution_count": 30,
     "metadata": {},
     "output_type": "execute_result"
    }
   ],
   "source": [
    "sorted(sentences_with_probs, key = lambda x: x[1])[:5]"
   ]
  },
  {
   "cell_type": "markdown",
   "id": "3cb990f0",
   "metadata": {},
   "source": [
    "### Most favorable samples phrases:"
   ]
  },
  {
   "cell_type": "code",
   "execution_count": 31,
   "id": "4a12af14",
   "metadata": {},
   "outputs": [
    {
     "data": {
      "text/plain": [
       "[('this church choir sings to the masses as they fill joyous songs from the book at a church. * the church is filled with song.',\n",
       "  tensor(0.9639, device='cuda:0')),\n",
       " ('this church choir sings to the masses as they sing joyous songs from the book at a church. * the church is here with song.',\n",
       "  tensor(0.9620, device='cuda:0')),\n",
       " ('this church choir sings to the masses as they sing joyous songs from the book at a church. * the church is were with song.',\n",
       "  tensor(0.9594, device='cuda:0')),\n",
       " ('this filleigh choir sings to the masses as they sing joyous songs from the book at a church. * the church is filled with song.',\n",
       "  tensor(0.9568, device='cuda:0')),\n",
       " ('this church choir sings to the masses as they sing joyous songs from the book at a church. * the church is active with song.',\n",
       "  tensor(0.9543, device='cuda:0'))]"
      ]
     },
     "execution_count": 31,
     "metadata": {},
     "output_type": "execute_result"
    }
   ],
   "source": [
    "sorted(sentences_with_probs, key = lambda x: x[1], reverse = True)[:5]"
   ]
  },
  {
   "cell_type": "code",
   "execution_count": 2,
   "id": "ae421107",
   "metadata": {},
   "outputs": [],
   "source": [
    "from MeLime.measures import calc_f1_esnli\n",
    "\n",
    "if RERUN_EXPERIMENT:\n",
    "    F1_score = calc_f1_esnli(predict_label, clf, transform_func, y_p_explain, tokenizer_split, encoder, \n",
    "                                          x_train, RADIUS, BATCH_SIZE, EPSILON, SIGMA, MAX_ITERS, SAMPLES_FOR_MEASURE, True)\n",
    "print(\"F1 score: \", F1_score)\n"
   ]
  },
  {
   "cell_type": "code",
   "execution_count": null,
   "id": "a947fb6b",
   "metadata": {},
   "outputs": [],
   "source": []
  }
 ],
 "metadata": {
  "kernelspec": {
   "display_name": "Python 3",
   "language": "python",
   "name": "python3"
  },
  "language_info": {
   "codemirror_mode": {
    "name": "ipython",
    "version": 3
   },
   "file_extension": ".py",
   "mimetype": "text/x-python",
   "name": "python",
   "nbconvert_exporter": "python",
   "pygments_lexer": "ipython3",
   "version": "3.8.5"
  }
 },
 "nbformat": 4,
 "nbformat_minor": 5
}
